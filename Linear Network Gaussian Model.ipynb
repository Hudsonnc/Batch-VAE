{
 "cells": [
  {
   "cell_type": "code",
   "execution_count": 1,
   "metadata": {
    "collapsed": true
   },
   "outputs": [],
   "source": [
    "import tensorflow as tf\n",
    "from tensorflow.contrib.layers import xavier_initializer\n",
    "import numpy as np\n",
    "from scipy.spatial.distance import pdist\n",
    "\n",
    "from matplotlib import pyplot as plt\n",
    "%matplotlib inline"
   ]
  },
  {
   "cell_type": "code",
   "execution_count": null,
   "metadata": {
    "collapsed": true
   },
   "outputs": [],
   "source": [
    "class VAE(object):\n",
    "    def __init__(self, x_dim, latent_dim, \n",
    "                 random_seed = None):\n",
    "        self.x_dim = x_dim\n",
    "        self.latent_dim = latent_dim\n",
    "        \n",
    "        #Initializer\n",
    "        xavier_init = xavier_initializer(seed = random_seed)\n",
    "        \n",
    "        params = {\n",
    "            'W' : tf.Variable(xavier_init([x_dim, latent_dim]), name = 'W')\n",
    "            'b' : tf.Variable(tf.zeros([latent_dim]), name = 'b')\n",
    "        }\n",
    "        self.params = params\n",
    "        \n",
    "        #Graph\n",
    "        X = tf.placeholder(tf.float32, shape=[x_dim, None], name='X')\n",
    "        self.X = X\n",
    "        Z = tf.placeholder(tf.float32, shape=[latent_dim, None], name='Z')\n",
    "        self.Z = Z\n",
    "        \n",
    "        \n",
    "        \n",
    "        #Loss\n",
    "        "
   ]
  },
  {
   "cell_type": "code",
   "execution_count": 10,
   "metadata": {
    "collapsed": true
   },
   "outputs": [],
   "source": [
    "def med(Z):\n",
    "    A = Z.reshape(Z.shape[0], -1)\n",
    "    r = tf.reduce_sum(A*A, 1)\n",
    "    r = tf.reshape(r, [-1, 1])\n",
    "    psqdists = r - 2*tf.matmul(A, tf.transpose(A)) + tf.transpose(r)\n",
    "    return tf.contrib.distributions.percentile(psqdists, 50)\n",
    "\n",
    "def rbfBandwidth(Z):\n",
    "    h = tf.square(med(Z))/np.log(Z.shape[0])\n",
    "    return(h)\n",
    "\n",
    "def rbf(zi, zj, h):\n",
    "    return(tf.exp(-tf.square(zi-zj)/h))\n",
    "\n",
    "def linear(zi, zj):\n",
    "    return tf.tensordot(zi, zj,axes=1)\n",
    "\n",
    "def phi_star_j(zi, zj, p, kernel):\n",
    "    zj_var = tf.constant(zj)\n",
    "    return kernel(zi, zj)*tf.gradients(p(zj_var) + kernel(zj_var, zi), [zj_var])\n",
    "\n",
    "def phi_star(Z, p, kernel):\n",
    "    out = []\n",
    "    for zi in Z:\n",
    "        entry = tf.reduce_mean([phi_star_j(zi, zj, p, kernel) for zj in Z])\n",
    "        out.append(entry)\n",
    "    return(tf.stack(out))\n",
    "\n",
    "def Stein(Z, p, kernel):\n",
    "    ps = phi_star(Z, p, kernel)\n",
    "    return(tf.tensordot(tf.transpose(Z), tf.stop_gradient(ps), axes = 1))"
   ]
  },
  {
   "cell_type": "code",
   "execution_count": 11,
   "metadata": {
    "collapsed": true,
    "scrolled": false
   },
   "outputs": [],
   "source": [
    "n = 5\n",
    "Z = np.random.normal(0,1,n).astype('float32')\n",
    "Z = Z.reshape(Z.shape[0], -1)"
   ]
  },
  {
   "cell_type": "code",
   "execution_count": 14,
   "metadata": {
    "scrolled": false
   },
   "outputs": [
    {
     "data": {
      "text/plain": [
       "array([ 3.19304872], dtype=float32)"
      ]
     },
     "execution_count": 14,
     "metadata": {},
     "output_type": "execute_result"
    }
   ],
   "source": [
    "sess = tf.Session()\n",
    "sess.run(Stein(Z, np.square, lambda x,y: rbf(x,y,rbfBandwidth(Z))))"
   ]
  },
  {
   "cell_type": "code",
   "execution_count": 714,
   "metadata": {},
   "outputs": [
    {
     "data": {
      "text/plain": [
       "array([ 39.0635643], dtype=float32)"
      ]
     },
     "execution_count": 714,
     "metadata": {},
     "output_type": "execute_result"
    }
   ],
   "source": [
    "sess.run(Stein(Z, np.square, linear))"
   ]
  }
 ],
 "metadata": {
  "kernelspec": {
   "display_name": "Python [conda env:tensorflow]",
   "language": "python",
   "name": "conda-env-tensorflow-py"
  },
  "language_info": {
   "codemirror_mode": {
    "name": "ipython",
    "version": 3
   },
   "file_extension": ".py",
   "mimetype": "text/x-python",
   "name": "python",
   "nbconvert_exporter": "python",
   "pygments_lexer": "ipython3",
   "version": "3.6.2"
  }
 },
 "nbformat": 4,
 "nbformat_minor": 2
}
